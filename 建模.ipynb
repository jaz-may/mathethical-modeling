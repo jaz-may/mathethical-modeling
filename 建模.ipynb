{
 "cells": [
  {
   "cell_type": "code",
   "execution_count": 22,
   "id": "021aebb9",
   "metadata": {},
   "outputs": [],
   "source": [
    "import csv,matplotlib\n",
    "import pandas as pd\n",
    "import numpy as np"
   ]
  },
  {
   "cell_type": "code",
   "execution_count": 23,
   "id": "15d77dee",
   "metadata": {},
   "outputs": [],
   "source": [
    "### 土地类\n",
    "class Land:\n",
    "    def __init__ (self,Land_name,Land_type,Land_area):\n",
    "        self.Land_type=Land_type\n",
    "        self.Land_area=Land_area\n",
    "        self.Land_name=Land_name##可唯一索引\n",
    "    def __str__(self):\n",
    "        return f\"土地名称：{self.Land_name}，土地类型：{self.Land_type}，土地面积：{self.Land_area}\"\n",
    "Land_object=[]"
   ]
  },
  {
   "cell_type": "code",
   "execution_count": 33,
   "id": "7eeb42b5",
   "metadata": {},
   "outputs": [],
   "source": [
    "### 作物类\n",
    "class Crop:\n",
    "    def __init__(self,Crop_number,Crop_name,Crop_type,Land_type):\n",
    "        self.Crop_number=Crop_number\n",
    "        self.Crop_name=Crop_name\n",
    "        self.Crop_type=Crop_type\n",
    "        self.Land_type=Land_type\n",
    "    def __str__(self):\n",
    "        return f'作物编号：{self.Crop_number}，作物名称：{self.Crop_name}，作物类型：{self.Crop_type}，种植耕地：{self.Land_type}'"
   ]
  },
  {
   "cell_type": "code",
   "execution_count": 34,
   "id": "cb553af2",
   "metadata": {},
   "outputs": [],
   "source": [
    "### 构建dataframe\n",
    "df_Land=pd.read_excel(\"附件1.xlsx\",sheet_name=\"乡村的现有耕地\")\n",
    "df_Crop=pd.read_excel(\"附件1.xlsx\",sheet_name=\"乡村种植的农作物\")\n",
    "df_plant_2023=pd.read_excel(\"附件2.xlsx\",sheet_name=\"2023年的农作物种植情况\")\n",
    "df_statistic_2023=pd.read_excel(\"附件2.xlsx\",sheet_name=\"2023年统计的相关数据\")\n",
    "# print(df_area_type.head())\n",
    "# print(df_plant_type.head())\n",
    "# print(df_plant_2023.head())\n",
    "# print(df_statistic_2023.head())"
   ]
  },
  {
   "cell_type": "code",
   "execution_count": null,
   "id": "7183f766",
   "metadata": {},
   "outputs": [],
   "source": [
    "### 土地实例化，土地基本数据\n",
    "for index,row in df_Land.iterrows():\n",
    "    land=Land(row['地块名称'],row['地块类型'],row['地块面积/亩'])\n",
    "    Land_object.append(land)\n",
    "for i in Land_object:\n",
    "    print(i)"
   ]
  },
  {
   "cell_type": "code",
   "execution_count": null,
   "id": "075cd100",
   "metadata": {},
   "outputs": [
    {
     "name": "stdout",
     "output_type": "stream",
     "text": [
      "1 黄豆 粮食（豆类） 平旱地\n",
      "\n",
      "梯田\n",
      "\n",
      "山坡地\n",
      "\n",
      "2 黑豆 粮食（豆类） nan\n",
      "3 红豆 粮食（豆类） nan\n",
      "4 绿豆 粮食（豆类） nan\n",
      "5 爬豆 粮食（豆类） nan\n",
      "6 小麦 粮食 nan\n",
      "7 玉米 粮食 nan\n",
      "8 谷子 粮食 nan\n",
      "9 高粱 粮食 nan\n",
      "10 黍子 粮食 nan\n",
      "11 荞麦 粮食 nan\n",
      "12 南瓜 粮食 nan\n",
      "13 红薯 粮食 nan\n",
      "14 莜麦 粮食 nan\n",
      "15 大麦 粮食 nan\n",
      "16 水稻 粮食 水浇地\n",
      "17 豇豆 蔬菜（豆类） 水浇地    第一季\n",
      "\n",
      "普通大棚  第一季\n",
      "\n",
      "智慧大棚  第一季、第二季\n",
      "\n",
      "18 刀豆 蔬菜（豆类） nan\n",
      "19 芸豆 蔬菜（豆类） nan\n",
      "20 土豆 蔬菜 nan\n",
      "21 西红柿 蔬菜 nan\n",
      "22 茄子 蔬菜 nan\n",
      "23 菠菜  蔬菜 nan\n",
      "24 青椒 蔬菜 nan\n",
      "25 菜花 蔬菜 nan\n",
      "26 包菜 蔬菜 nan\n",
      "27 油麦菜 蔬菜 nan\n",
      "28 小青菜 蔬菜 nan\n",
      "29 黄瓜 蔬菜 nan\n",
      "30 生菜  蔬菜 nan\n",
      "31 辣椒 蔬菜 nan\n",
      "32 空心菜 蔬菜 nan\n",
      "33 黄心菜 蔬菜 nan\n",
      "34 芹菜 蔬菜 nan\n",
      "35 大白菜 蔬菜 水浇地    第二季\n",
      "36 白萝卜 蔬菜 nan\n",
      "37 红萝卜 蔬菜 nan\n",
      "38 榆黄菇 食用菌 普通大棚  第二季\n",
      "39 香菇 食用菌 nan\n",
      "40 白灵菇 食用菌 nan\n",
      "41 羊肚菌 食用菌 nan\n",
      "nan nan nan nan\n",
      "注： (1) 水浇地的第一季通常是在每年的3月至6月前后，第二季是在7月至10月前后。 nan nan\n",
      "nan (2) 普通大棚的第一季通常是在每年的5月至9月前后，第二季是在9月至下一年4月前后。 nan nan\n",
      "nan (3) 智慧大棚的第一季通常是在每年的3月至7月前后，第二季是在8月至下一年的2月前后。 nan nan\n"
     ]
    }
   ],
   "source": [
    "### 作物实例化\n",
    "for index,row in df_Crop.iterrows():\n",
    "    if row[\"种植耕地\"]:\n",
    "        Land_type=row[\"种植耕地\"]\n",
    "    crop=Crop(row[\"作物编号\"],row[\"作物名称\"],row[\"作物类型\"],row[\"种植耕地\"])\n",
    "    Crop_object.append(crop)\n",
    "    print(row[\"作物编号\"],row[\"作物名称\"],row[\"作物类型\"],row[\"种植耕地\"])"
   ]
  },
  {
   "cell_type": "code",
   "execution_count": null,
   "id": "756c9fe4",
   "metadata": {},
   "outputs": [],
   "source": []
  }
 ],
 "metadata": {
  "kernelspec": {
   "display_name": "Python 3",
   "language": "python",
   "name": "python3"
  },
  "language_info": {
   "codemirror_mode": {
    "name": "ipython",
    "version": 3
   },
   "file_extension": ".py",
   "mimetype": "text/x-python",
   "name": "python",
   "nbconvert_exporter": "python",
   "pygments_lexer": "ipython3",
   "version": "3.12.6"
  }
 },
 "nbformat": 4,
 "nbformat_minor": 5
}
